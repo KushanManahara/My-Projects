{
 "cells": [
  {
   "cell_type": "code",
   "execution_count": 26,
   "id": "93c61450",
   "metadata": {},
   "outputs": [
    {
     "name": "stderr",
     "output_type": "stream",
     "text": [
      "Using CPU. Note: This module is much faster with a GPU.\n"
     ]
    },
    {
     "name": "stdout",
     "output_type": "stream",
     "text": [
      "Make\n",
      "Q\n",
      "handwriting\n",
      "fontl\n"
     ]
    }
   ],
   "source": [
    "import easyocr\n",
    "\n",
    "# Create an EasyOCR reader with English language support\n",
    "reader = easyocr.Reader([\"en\"], gpu=False)\n",
    "\n",
    "# Path to the handwritten image\n",
    "image_path = \"/home/gimhara/Desktop/GIT/Machine Learning/Handwritten to text/Handwritten_texts/input_001.jpeg\"\n",
    "\n",
    "# Perform text recognition on the image\n",
    "bounds = reader.readtext(image_path)\n",
    "\n",
    "# Extract the text from the recognized bounds\n",
    "recognized_text = [bound[1] for bound in bounds]\n",
    "\n",
    "# Path to the output text file\n",
    "output_file = \"/home/gimhara/Desktop/GIT/Machine Learning/Handwritten to text/saved/output_text.txt\"\n",
    "\n",
    "# Open the output file in write mode\n",
    "with open(output_file, \"w\") as file:\n",
    "    # Iterate over the recognized text\n",
    "    for text in recognized_text:\n",
    "        print(text)  # Print the text to the console\n",
    "        file.write(text + \"\\n\")  # Write the text to the file, followed by a new line\n",
    "\n",
    "# The 'with' statement automatically closes the file after writing\n",
    "file.close()"
   ]
  },
  {
   "cell_type": "code",
   "execution_count": null,
   "id": "5107e6b7",
   "metadata": {},
   "outputs": [],
   "source": []
  }
 ],
 "metadata": {
  "kernelspec": {
   "display_name": "Python 3 (ipykernel)",
   "language": "python",
   "name": "python3"
  },
  "language_info": {
   "codemirror_mode": {
    "name": "ipython",
    "version": 3
   },
   "file_extension": ".py",
   "mimetype": "text/x-python",
   "name": "python",
   "nbconvert_exporter": "python",
   "pygments_lexer": "ipython3",
   "version": "3.11.3"
  }
 },
 "nbformat": 4,
 "nbformat_minor": 5
}
